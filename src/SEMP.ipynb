{
 "cells": [
  {
   "cell_type": "markdown",
   "metadata": {},
   "source": [
    "###  Imports"
   ]
  },
  {
   "cell_type": "code",
   "execution_count": null,
   "metadata": {},
   "outputs": [],
   "source": [
    "import pandas as pd\n",
    "import semp"
   ]
  },
  {
   "cell_type": "markdown",
   "metadata": {},
   "source": [
    "### Data from a flexible robot arm "
   ]
  },
  {
   "cell_type": "code",
   "execution_count": null,
   "metadata": {},
   "outputs": [],
   "source": [
    "robot_arm_df = pd.read_csv(\"data/robot-arm.csv\")\n",
    "u = robot_arm_df[\"u\"].values\n",
    "y = robot_arm_df[\"y\"].values\n",
    "nu, ny = 5, 5\n",
    "l=4"
   ]
  },
  {
   "cell_type": "code",
   "execution_count": null,
   "metadata": {},
   "outputs": [],
   "source": [
    "semp_robot_arm = semp.Semp()\n",
    "semp_robot_arm.run(u, y, nu, ny, l, 1, \"Robot Arm\")"
   ]
  },
  {
   "cell_type": "markdown",
   "metadata": {},
   "source": [
    "### Cascaded Tanks"
   ]
  },
  {
   "cell_type": "code",
   "execution_count": null,
   "metadata": {},
   "outputs": [],
   "source": [
    "tanque = pd.read_csv('data/tanque.csv')\n",
    "u_tanque = tanque['uEst'].values\n",
    "y_tanque = tanque['yEst'].values\n",
    "nu, ny = 5, 5\n",
    "l=4"
   ]
  },
  {
   "cell_type": "code",
   "execution_count": null,
   "metadata": {},
   "outputs": [],
   "source": [
    "semp_tanque = semp.Semp()\n",
    "semp_tanque.run(u_tanque, y_tanque, nu, ny, l, 1, \"Tanque\")"
   ]
  },
  {
   "cell_type": "markdown",
   "metadata": {},
   "source": [
    "### Silverbox System"
   ]
  },
  {
   "cell_type": "code",
   "execution_count": null,
   "metadata": {},
   "outputs": [],
   "source": [
    "silver_box = pd.read_csv('data/SNLS80mV.csv')\n",
    "u_sb = silver_box['V1'].values\n",
    "y_sb = silver_box['V2'].values\n",
    "nu, ny = 5, 5\n",
    "l=4"
   ]
  },
  {
   "cell_type": "code",
   "execution_count": null,
   "metadata": {},
   "outputs": [],
   "source": [
    "semp_silver_box = semp.Semp()\n",
    "semp_silver_box.run(u_sb, y_sb, nu, ny, l, 1, \"Silver Box\")"
   ]
  },
  {
   "cell_type": "markdown",
   "metadata": {},
   "source": [
    "###  Data of the ball-and-beam setup in STADIUS"
   ]
  },
  {
   "cell_type": "code",
   "execution_count": null,
   "metadata": {},
   "outputs": [],
   "source": [
    "ballbeam = pd.read_csv('data/ball-and-beam.csv')\n",
    "u_ballbeam = ballbeam[\"u\"].values\n",
    "y_ballbeam = ballbeam[\"y\"].values\n",
    "nu, ny = 5, 5\n",
    "l=4"
   ]
  },
  {
   "cell_type": "code",
   "execution_count": null,
   "metadata": {},
   "outputs": [],
   "source": [
    "semp_ballbeam = semp.Semp()\n",
    "semp_ballbeam.run(u_ballbeam, y_ballbeam, nu, ny, l, 1, \"Ball and Beam\")"
   ]
  },
  {
   "cell_type": "markdown",
   "metadata": {},
   "source": [
    "### Liquid-saturated steam heat exchanger"
   ]
  },
  {
   "cell_type": "code",
   "execution_count": null,
   "metadata": {},
   "outputs": [],
   "source": [
    "exchanger = pd.read_csv('data/exchanger.csv')\n",
    "u_exchanger = exchanger[\"q\"].values\n",
    "y_exchanger = exchanger[\"th\"].values\n",
    "nu, ny = 5, 5\n",
    "l=4"
   ]
  },
  {
   "cell_type": "code",
   "execution_count": null,
   "metadata": {},
   "outputs": [],
   "source": [
    "semp_exchanger = semp.Semp()\n",
    "semp_exchanger.run(u_exchanger, y_exchanger, nu, ny, l, 1, \"Exchanger\")"
   ]
  }
 ],
 "metadata": {
  "kernelspec": {
   "display_name": "Python 3",
   "language": "python",
   "name": "python3"
  },
  "language_info": {
   "codemirror_mode": {
    "name": "ipython",
    "version": 3
   },
   "file_extension": ".py",
   "mimetype": "text/x-python",
   "name": "python",
   "nbconvert_exporter": "python",
   "pygments_lexer": "ipython3",
   "version": "3.11.1"
  },
  "orig_nbformat": 4
 },
 "nbformat": 4,
 "nbformat_minor": 2
}
