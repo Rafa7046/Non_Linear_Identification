{
 "cells": [
  {
   "cell_type": "code",
   "execution_count": null,
   "id": "e031fcd1-5298-41fc-9488-2b4bea027108",
   "metadata": {},
   "outputs": [],
   "source": [
    "import numpy as np\n",
    "import pandas as pd\n",
    "\n",
    "import matplotlib.pyplot as plt"
   ]
  },
  {
   "cell_type": "markdown",
   "id": "0fcd024e",
   "metadata": {},
   "source": [
    "## 1 Data analysis\n",
    "\n",
    "### 1.2 Robot arm"
   ]
  },
  {
   "cell_type": "code",
   "execution_count": null,
   "id": "a431932a",
   "metadata": {},
   "outputs": [],
   "source": [
    "df = pd.read_csv(\"data/robot-arm.csv\")\n",
    "df"
   ]
  },
  {
   "cell_type": "code",
   "execution_count": null,
   "id": "2b6bab04",
   "metadata": {},
   "outputs": [],
   "source": [
    "t = np.arange(0, df.shape[0] * 0.1, 0.1)\n",
    "u = df[\"u\"].values\n",
    "y = df[\"y\"].values"
   ]
  },
  {
   "cell_type": "code",
   "execution_count": null,
   "id": "36842c31",
   "metadata": {},
   "outputs": [],
   "source": [
    "# separate the data into training and testing sets\n",
    "n_train = int(0.2 * df.shape[0])\n",
    "\n",
    "t_train, t_test = t[-n_train:], t[:-n_train]\n",
    "u_train, u_test = u[-n_train:], u[:-n_train]\n",
    "y_train, y_test = y[-n_train:], y[:-n_train]"
   ]
  },
  {
   "cell_type": "code",
   "execution_count": null,
   "id": "5cd100b4",
   "metadata": {},
   "outputs": [],
   "source": [
    "# Plot the train data\n",
    "plt.plot(t_train, u_train, label=\"u\")\n",
    "plt.plot(t_train, y_train, label=\"y\")\n",
    "plt.xlabel(\"time (s)\")\n",
    "plt.title(\"Robot arm system\")\n",
    "plt.legend()\n",
    "plt.show()"
   ]
  },
  {
   "cell_type": "code",
   "execution_count": null,
   "id": "a0e8b0bc",
   "metadata": {},
   "outputs": [],
   "source": [
    "def data_matrix(u, y, nu=1, ny=1):\n",
    "    \"\"\" Given the input and output data, return the data matrix with nu and ny delays\"\"\"\n",
    "    N = len(u)\n",
    "    n = max(nu, ny)\n",
    "    U = np.zeros((N-n, nu))\n",
    "    Y = np.zeros((N-n, ny))\n",
    "    \n",
    "    for i in range(nu):\n",
    "        U[:, -(i+1)] = u[i+1:N-n+i+1]\n",
    "\n",
    "    for i in range(ny):\n",
    "        Y[:, -(i+1)] = y[i+1:N-n+i+1]\n",
    "    \n",
    "    return np.hstack((Y, U))"
   ]
  },
  {
   "cell_type": "code",
   "execution_count": null,
   "id": "0e5f7a6b",
   "metadata": {},
   "outputs": [],
   "source": [
    "nu, ny = 2, 2\n",
    "dm = data_matrix(u_train, y_train, nu, ny)\n",
    "dm"
   ]
  },
  {
   "cell_type": "code",
   "execution_count": null,
   "id": "5cbcf4ef",
   "metadata": {},
   "outputs": [],
   "source": [
    "dm.shape"
   ]
  },
  {
   "cell_type": "code",
   "execution_count": null,
   "id": "f338fa44-3f98-4a7a-878a-9648afaab4ad",
   "metadata": {},
   "outputs": [],
   "source": [
    "def combine(arr, k):\n",
    "    if k == 0:\n",
    "        return [[]]\n",
    "    elif not arr:\n",
    "        return []\n",
    "    else:\n",
    "        head = arr[0]\n",
    "        tail = arr[1:]\n",
    "\n",
    "        without_head = combine(tail, k)\n",
    "        with_head = combine(arr, k - 1)\n",
    "\n",
    "        with_head = [[head] + x for x in with_head]\n",
    "\n",
    "        return with_head + without_head\n",
    "\n",
    "def generate_combinations(arr, l):\n",
    "    answer = []\n",
    "    for k in range(1, l + 1):\n",
    "        for comb in combine(arr, k):\n",
    "            answer.append(comb)\n",
    "    return answer\n"
   ]
  },
  {
   "cell_type": "code",
   "execution_count": null,
   "id": "5fa3f7d9-fe1d-4db3-aff1-1166c6491b60",
   "metadata": {},
   "outputs": [],
   "source": [
    "l = 3\n",
    "combinations = generate_combinations(list(range(nu + ny)), l)\n",
    "combinations"
   ]
  },
  {
   "cell_type": "code",
   "execution_count": null,
   "id": "4d3fe903",
   "metadata": {},
   "outputs": [],
   "source": [
    "len(combinations)"
   ]
  },
  {
   "cell_type": "code",
   "execution_count": null,
   "id": "a87a552f-098b-4a9d-92b3-2482fd08d940",
   "metadata": {},
   "outputs": [],
   "source": [
    "def get_term(idxs, nu, ny):\n",
    "    ans = \"\"\n",
    "    for i in idxs:\n",
    "        if i + 1 > ny:\n",
    "            ans += f\" u[k-{nu+ny-i}]\"\n",
    "        else:\n",
    "            ans += f\" y[k-{ny-i}]\"\n",
    "    return ans.strip()"
   ]
  },
  {
   "cell_type": "code",
   "execution_count": null,
   "id": "6bfc2d1a-ea3a-426c-8c50-6f5a4d302377",
   "metadata": {},
   "outputs": [],
   "source": [
    "def candidate_matrix(P, combinations):\n",
    "    cm = []\n",
    "    for comb in combinations:\n",
    "        m = P[:, comb]\n",
    "        product = np.prod(m, axis=1)\n",
    "        cm.append(product)\n",
    "    return np.column_stack(cm)"
   ]
  },
  {
   "cell_type": "code",
   "execution_count": null,
   "id": "459915e3-dd84-434c-8b82-9d20b13028fa",
   "metadata": {},
   "outputs": [],
   "source": [
    "cm = candidate_matrix(dm, combinations)\n",
    "cm"
   ]
  },
  {
   "cell_type": "code",
   "execution_count": null,
   "id": "83435b6d",
   "metadata": {},
   "outputs": [],
   "source": [
    "cm.shape"
   ]
  },
  {
   "cell_type": "code",
   "execution_count": null,
   "id": "698c0151",
   "metadata": {},
   "outputs": [],
   "source": [
    "theta = np.linalg.inv(cm.T @ cm) @ cm.T @ y_train[:-max(nu, ny)]\n",
    "theta"
   ]
  },
  {
   "cell_type": "code",
   "execution_count": null,
   "id": "ae8a7547-4178-4a8e-bb77-4c1e9fea84a8",
   "metadata": {},
   "outputs": [],
   "source": [
    "list(map(lambda c: get_term(c, nu, ny), combinations))"
   ]
  },
  {
   "cell_type": "code",
   "execution_count": null,
   "id": "7a30e7d6",
   "metadata": {},
   "outputs": [],
   "source": [
    "y_hat = cm @ theta"
   ]
  },
  {
   "cell_type": "code",
   "execution_count": null,
   "id": "3d7ddd01",
   "metadata": {},
   "outputs": [],
   "source": [
    "plt.plot(t_train[:-max(nu, ny)], y_train[:-max(nu, ny)], label=\"y\")\n",
    "plt.plot(t_train[:-max(nu, ny)], y_hat, label=\"y_hat\")\n",
    "plt.xlabel(\"time (s)\")\n",
    "plt.title(\"Robot Arm Train Set\")\n",
    "plt.legend()\n",
    "plt.show()"
   ]
  },
  {
   "cell_type": "code",
   "execution_count": null,
   "id": "6ca0f8ab",
   "metadata": {},
   "outputs": [],
   "source": [
    "cm_test = candidate_matrix(data_matrix(u_test, y_test, nu, ny), combinations)\n",
    "y_hat_test = cm_test @ theta"
   ]
  },
  {
   "cell_type": "code",
   "execution_count": null,
   "id": "9a717628",
   "metadata": {},
   "outputs": [],
   "source": [
    "y_hat_test.shape"
   ]
  },
  {
   "cell_type": "code",
   "execution_count": null,
   "id": "22fd1e18",
   "metadata": {},
   "outputs": [],
   "source": [
    "# plot the test data\n",
    "plt.plot(t_test[:-max(nu, ny)], y_test[:-max(nu, ny)], label=\"y\")\n",
    "plt.plot(t_test[:-max(nu, ny)], y_hat_test, label=\"y_hat\")\n",
    "plt.xlabel(\"time (s)\")\n",
    "plt.title(\"Robot Arm - Test set\")\n",
    "plt.legend()\n",
    "plt.show()"
   ]
  },
  {
   "cell_type": "code",
   "execution_count": null,
   "id": "01306113",
   "metadata": {},
   "outputs": [],
   "source": [
    "# plotting the abs error\n",
    "plt.plot(t_test[:-max(nu, ny)], abs(y_test[:-max(nu, ny)] - y_hat_test), label=\"error\")\n",
    "plt.xlabel(\"time (s)\")\n",
    "plt.ylabel(\"absolute error\")\n",
    "plt.title(\"Robot Arm - Test set\")\n",
    "plt.legend()\n",
    "plt.show()"
   ]
  }
 ],
 "metadata": {
  "kernelspec": {
   "display_name": ".env",
   "language": "python",
   "name": "python3"
  },
  "language_info": {
   "codemirror_mode": {
    "name": "ipython",
    "version": 3
   },
   "file_extension": ".py",
   "mimetype": "text/x-python",
   "name": "python",
   "nbconvert_exporter": "python",
   "pygments_lexer": "ipython3"
  }
 },
 "nbformat": 4,
 "nbformat_minor": 5
}
