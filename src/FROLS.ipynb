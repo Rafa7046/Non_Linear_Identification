{
 "cells": [
  {
   "cell_type": "markdown",
   "metadata": {},
   "source": [
    "### Imports"
   ]
  },
  {
   "cell_type": "code",
   "execution_count": null,
   "metadata": {},
   "outputs": [],
   "source": [
    "import numpy as np\n",
    "import pandas as pd\n",
    "import matplotlib.pyplot as plt"
   ]
  },
  {
   "cell_type": "markdown",
   "metadata": {},
   "source": [
    "### Dados Reais do Sistema"
   ]
  },
  {
   "cell_type": "code",
   "execution_count": null,
   "metadata": {},
   "outputs": [],
   "source": [
    "def plot_data(u,y):\n",
    "    plt.figure(figsize=(20, 6))\n",
    "    plt.plot(u, label='u(t)', linestyle='-', color = 'r')\n",
    "    plt.plot(y, label='y(t)', linestyle='-', color = 'k')\n",
    "    plt.xlabel('Tempo (s)')\n",
    "    plt.ylabel('Amplitude')\n",
    "    plt.title('Resposta do Sistema ao longo do tempo')\n",
    "    plt.legend()\n",
    "    plt.grid(True)\n",
    "    plt.show()"
   ]
  },
  {
   "cell_type": "markdown",
   "metadata": {},
   "source": [
    "### FROLS (Forward-Regression Orthogonal Least Squares) para identificar sistemas NARMAX (Nonlinear AutoRegressive Moving-Average with eXogenous inputs). Esses sistemas são representados por uma equação geral da forma:\n",
    "\n",
    "\\begin{equation*}\n",
    "y(t) = f(y(t-1), y(t-2), ..., y(t-na), u(t-1), u(t-2), ..., u(t-nb)) + e(t)\n",
    "\\end{equation*}\n",
    "\n",
    "### Onde:\n",
    "- y(t) é a saída do sistema no instante de tempo t.\n",
    "- u(t) é a entrada do sistema no instante de tempo t.\n",
    "- na e nb são as ordens dos polinômios auto-regressivos e de média móvel, respectivamente.\n",
    "- f() é uma função não linear que representa a dinâmica do sistema.\n",
    "- e(t) é um termo de erro."
   ]
  },
  {
   "cell_type": "code",
   "execution_count": null,
   "metadata": {},
   "outputs": [],
   "source": [
    "def frols(u, y):\n",
    "    \"\"\"\n",
    "    Identifica um modelo NARMAX usando o algoritmo FROLS (Forward-Regression Orthogonal Least Squares).\n",
    "\n",
    "    Args:\n",
    "        u (array): Um array numpy contendo os dados de entrada (u).\n",
    "        y (array): Um array numpy contendo os dados de saída (y).\n",
    "\n",
    "    Returns:\n",
    "        tuple: Uma tupla contendo informações sobre o modelo identificado:\n",
    "            - na (int): A ordem dos termos auto-regressivos selecionados.\n",
    "            - nb (int): A ordem dos termos de média móvel selecionados.\n",
    "            - beta (array): Os coeficientes do modelo identificado.\n",
    "            - selected_terms (list): Uma lista de termos selecionados (por exemplo, ['y(t-1)', 'u(t-2)']).\n",
    "            - X (array): A matriz de regressores usada para a identificação.\n",
    "    \"\"\"\n",
    "\n",
    "    na, nb = 1, 1 # ordens dos termos auto-regressivos e de média móvel\n",
    "    prev_error = float('inf')  # erro anterior como infinito\n",
    "    \n",
    "    max_na = len(y) // 2  # Ordem máxima dos termos auto-regressivos\n",
    "    max_nb = len(u) // 2  # Ordem máxima dos termos de média móvel\n",
    "    selected_terms = []  # Lista para armazenar os termos selecionados\n",
    "\n",
    "    X = np.empty((len(u), 0))  # matriz de regressores como vazia\n",
    "    beta = np.array([])  # vetor de coeficientes como vazio\n",
    "    # Continue o loop enquanto as ordens máximas não forem excedidas ou enquanto houver redução no erro\n",
    "    while (na <= max_na or nb <= max_nb) and prev_error > 0:\n",
    "        # print(na)\n",
    "        if na <= max_na:\n",
    "            # Adicione um termo auto-regressivo\n",
    "            X_na = np.column_stack([X, np.roll(y, na)])\n",
    "            # print(X_na)\n",
    "            error_na = np.sum((y - np.dot(X_na, np.linalg.lstsq(X_na, y, rcond=None)[0]))**2)\n",
    "            # error_na = 1 - (prev_error / error_na)\n",
    "            \n",
    "        if nb <= max_nb:\n",
    "            # Adicione um termo de média móvel\n",
    "            X_nb = np.column_stack([X, np.roll(u, nb)])\n",
    "            # print(X_nb)\n",
    "            error_nb = np.sum((y - np.dot(X_nb, np.linalg.lstsq(X_nb, y, rcond=None)[0]))**2)\n",
    "            # error_nb = 1 - (prev_error / error_nb)\n",
    "        \n",
    "        if na <= max_na and error_na < prev_error:\n",
    "            # Aceite o termo auto-regressivo\n",
    "            X = X_na\n",
    "            selected_terms.append(f'y(t-{na + 1})')\n",
    "            # na += 1\n",
    "            prev_error = error_na\n",
    "            beta = np.linalg.lstsq(X, y, rcond=None)[0]\n",
    "        elif nb <= max_nb and error_nb < prev_error:\n",
    "            # Aceite o termo de média móvel\n",
    "            X = X_nb\n",
    "            selected_terms.append(f'u(t-{nb + 1})')\n",
    "            # nb += 1\n",
    "            prev_error = error_nb\n",
    "            beta = np.linalg.lstsq(X, y, rcond=None)[0]\n",
    "        else:\n",
    "            break\n",
    "            \n",
    "        na += 1\n",
    "        nb += 1\n",
    "    return beta, selected_terms, X\n",
    "\n",
    "# Exemplo de uso:\n",
    "# na, nb, beta, selected_terms, X = frols(u, y)"
   ]
  },
  {
   "cell_type": "markdown",
   "metadata": {},
   "source": [
    "### Base de dados para Benchmarks"
   ]
  },
  {
   "cell_type": "code",
   "execution_count": null,
   "metadata": {},
   "outputs": [],
   "source": [
    "tanque     = pd.read_csv('tanque.csv')\n",
    "silver_box = pd.read_csv('SNLS80mV.csv')\n",
    "ballbeam   = np.loadtxt('ballbeam.dat')\n",
    "Liquid_saturated = np.loadtxt('Liquid-saturated.dat')\n",
    "robot_arm  = np.loadtxt('robot_arm.dat')"
   ]
  },
  {
   "cell_type": "markdown",
   "metadata": {},
   "source": [
    "### Cascaded Tanks"
   ]
  },
  {
   "cell_type": "code",
   "execution_count": null,
   "metadata": {},
   "outputs": [],
   "source": [
    "tanque     = pd.read_csv('tanque.csv')\n",
    "u_tanque = tanque['uVal'].values\n",
    "y_tanque = tanque['yVal'].values\n",
    "# plot_data(u_tanque, y_tanque)"
   ]
  },
  {
   "cell_type": "code",
   "execution_count": null,
   "metadata": {},
   "outputs": [],
   "source": [
    "beta_1, selected_terms_1, X_1 = frols(u_tanque, y_tanque)\n",
    "y_pred_1 = np.dot(X_1, beta_1)\n",
    "\n",
    "plt.figure(figsize=(20, 6))\n",
    "plt.plot(y_tanque, label='Real', linestyle='-', color = 'r')\n",
    "plt.plot(y_pred_1, label='Predito', linestyle='-',color = 'k')\n",
    "plt.xlabel('Tempo')\n",
    "plt.ylabel('yVal')\n",
    "plt.title('Comparação entre Dados Reais e Preditos')\n",
    "plt.legend()\n",
    "plt.grid(True)\n",
    "plt.show()"
   ]
  },
  {
   "cell_type": "markdown",
   "metadata": {},
   "source": [
    "### Silverbox System"
   ]
  },
  {
   "cell_type": "code",
   "execution_count": null,
   "metadata": {},
   "outputs": [],
   "source": [
    "u_sb = silver_box['V1'].values\n",
    "y_sb = silver_box['V2'].values\n",
    "# plot_data(u_sb, y_sb)"
   ]
  },
  {
   "cell_type": "code",
   "execution_count": null,
   "metadata": {},
   "outputs": [],
   "source": [
    "beta_2, selected_terms_2, X_2 = frols(u_sb, y_sb)\n",
    "y_pred_2 = np.dot(X_2, beta_2)\n",
    "\n",
    "plt.figure(figsize=(20, 6))\n",
    "plt.plot(y_sb, label='Real', linestyle='-', color = 'r')\n",
    "plt.plot(y_pred_2, label='Predito', linestyle='-',color = 'k')\n",
    "plt.xlabel('Tempo')\n",
    "plt.ylabel('yVal')\n",
    "plt.title('Comparação entre Dados Reais e Preditos')\n",
    "plt.legend()\n",
    "plt.grid(True)\n",
    "plt.show()"
   ]
  },
  {
   "cell_type": "markdown",
   "metadata": {},
   "source": [
    "### Liquid-saturated steam heat exchanger"
   ]
  },
  {
   "cell_type": "code",
   "execution_count": null,
   "metadata": {},
   "outputs": [],
   "source": [
    "u_liquid_saturated = Liquid_saturated[:, 1]\n",
    "y_liquid_saturated = Liquid_saturated[:, 2]\n",
    "# plot_data(u_liquid_saturated, y_liquid_saturated)"
   ]
  },
  {
   "cell_type": "code",
   "execution_count": null,
   "metadata": {},
   "outputs": [],
   "source": [
    "beta_3, selected_terms_3, X_3 = frols(u_liquid_saturated, y_liquid_saturated)\n",
    "y_pred_3 = np.dot(X_3, beta_3)\n",
    "\n",
    "plt.figure(figsize=(20, 6))\n",
    "plt.plot(y_liquid_saturated, label='Real', linestyle='-', color = 'r')\n",
    "plt.plot(y_pred_3, label='Predito', linestyle='-',color = 'k')\n",
    "plt.xlabel('Tempo')\n",
    "plt.ylabel('yVal')\n",
    "plt.title('Comparação entre Dados Reais e Preditos')\n",
    "plt.legend()\n",
    "plt.grid(True)\n",
    "plt.show()"
   ]
  },
  {
   "cell_type": "markdown",
   "metadata": {},
   "source": [
    "###  Data of the ball-and-beam setup in STADIUS"
   ]
  },
  {
   "cell_type": "code",
   "execution_count": null,
   "metadata": {},
   "outputs": [],
   "source": [
    "u_ballbeam = ballbeam[:,0]\n",
    "y_ballbeam = ballbeam[:,1]\n",
    "# plot_data(u_ballbeam, y_ballbeam)"
   ]
  },
  {
   "cell_type": "code",
   "execution_count": null,
   "metadata": {},
   "outputs": [],
   "source": [
    "beta_4, selected_terms_4, X_4 = frols(u_ballbeam, y_ballbeam)\n",
    "y_pred_4 = np.dot(X_4, beta_4)\n",
    "\n",
    "plt.figure(figsize=(20, 6))\n",
    "plt.plot(y_ballbeam, label='Real', linestyle='-', color = 'r')\n",
    "plt.plot(y_pred_4, label='Predito', linestyle='-',color = 'k')\n",
    "plt.xlabel('Tempo')\n",
    "plt.ylabel('yVal')\n",
    "plt.title('Comparação entre Dados Reais e Preditos')\n",
    "plt.legend()\n",
    "plt.grid(True)\n",
    "plt.show()"
   ]
  },
  {
   "cell_type": "markdown",
   "metadata": {},
   "source": [
    "### Data from a flexible robot arm "
   ]
  },
  {
   "cell_type": "code",
   "execution_count": null,
   "metadata": {},
   "outputs": [],
   "source": [
    "u_robot_arm = robot_arm[:,0]\n",
    "y_robot_arm = robot_arm[:,1]\n",
    "# plot_data(u_robot_arm, y_robot_arm)"
   ]
  },
  {
   "cell_type": "code",
   "execution_count": null,
   "metadata": {},
   "outputs": [],
   "source": [
    "beta_6, selected_terms_6, X_6 = frols(u_robot_arm, y_robot_arm)\n",
    "y_pred_6 = np.dot(X_6, beta_6)\n",
    "\n",
    "plt.figure(figsize=(20, 6))\n",
    "plt.plot(y_robot_arm, label='Real', linestyle='-', color = 'r')\n",
    "plt.plot(y_pred_6, label='Predito', linestyle='-',color = 'k')\n",
    "plt.xlabel('Tempo')\n",
    "plt.ylabel('Amplitude')\n",
    "plt.title('Comparação entre Dados Reais e Preditos')\n",
    "plt.legend()\n",
    "plt.grid(True)\n",
    "plt.show()"
   ]
  }
 ],
 "metadata": {
  "kernelspec": {
   "display_name": ".env",
   "language": "python",
   "name": "python3"
  },
  "language_info": {
   "codemirror_mode": {
    "name": "ipython",
    "version": 3
   },
   "file_extension": ".py",
   "mimetype": "text/x-python",
   "name": "python",
   "nbconvert_exporter": "python",
   "pygments_lexer": "ipython3"
  }
 },
 "nbformat": 4,
 "nbformat_minor": 2
}
